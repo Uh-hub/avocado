{
  "nbformat": 4,
  "nbformat_minor": 0,
  "metadata": {
    "colab": {
      "name": "Untitled30.ipynb",
      "provenance": [],
      "authorship_tag": "ABX9TyM2m5UYb+QscQvvoSLjOvQF",
      "include_colab_link": true
    },
    "kernelspec": {
      "name": "python3",
      "display_name": "Python 3"
    },
    "language_info": {
      "name": "python"
    }
  },
  "cells": [
    {
      "cell_type": "markdown",
      "metadata": {
        "id": "view-in-github",
        "colab_type": "text"
      },
      "source": [
        "<a href=\"https://colab.research.google.com/github/Uh-hub/avocado/blob/circleci-project-setup/data_science.ipynb\" target=\"_parent\"><img src=\"https://colab.research.google.com/assets/colab-badge.svg\" alt=\"Open In Colab\"/></a>"
      ]
    },
    {
      "cell_type": "code",
      "execution_count": null,
      "metadata": {
        "id": "fBl_J4xnyqdu"
      },
      "outputs": [],
      "source": [
        "import re\n",
        "my_regex = re.compile(\"[0-9]+\", re.I)"
      ]
    },
    {
      "cell_type": "code",
      "source": [
        "print(my_regex)"
      ],
      "metadata": {
        "colab": {
          "base_uri": "https://localhost:8080/"
        },
        "id": "PN1WY12RSEOu",
        "outputId": "6bcaaf4a-2291-4284-a638-5aaf8a9d68f2"
      },
      "execution_count": null,
      "outputs": [
        {
          "output_type": "stream",
          "name": "stdout",
          "text": [
            "re.compile('[0-9]+', re.IGNORECASE)\n"
          ]
        }
      ]
    },
    {
      "cell_type": "code",
      "source": [
        "import re as regex\n",
        "my_regex = regex.compile(\"[0-9]+\", regex.I)"
      ],
      "metadata": {
        "id": "5xhq-aGaR0zN"
      },
      "execution_count": null,
      "outputs": []
    },
    {
      "cell_type": "code",
      "source": [
        "print(my_regex)"
      ],
      "metadata": {
        "colab": {
          "base_uri": "https://localhost:8080/"
        },
        "id": "rGfQjUZESBPD",
        "outputId": "b66b60df-1014-462e-9f0e-12d1a1e4ae3a"
      },
      "execution_count": null,
      "outputs": [
        {
          "output_type": "stream",
          "name": "stdout",
          "text": [
            "re.compile('[0-9]+', re.IGNORECASE)\n"
          ]
        }
      ]
    },
    {
      "cell_type": "code",
      "source": [
        "#별칭\n",
        "import matplotlib.pyplot as plt\n",
        "\n",
        "#전체 모듈이 아닌 모듈 내의 특정 몇몇 기능만 필요한 경우\n",
        "from collections import defaultdict, Counter\n",
        "lookup = defaultdict(int)\n",
        "my_counter = Counter()"
      ],
      "metadata": {
        "id": "ipw6q2_xSHUb"
      },
      "execution_count": null,
      "outputs": []
    },
    {
      "cell_type": "code",
      "source": [
        "#함수의 인자에는 아래와 같이 message = ... 로 기본값 할당이 가능하다\n",
        "def my_print(message = \"my default message\"):\n",
        "  print(message)\n",
        "\n",
        "my_print(\"hello\")\n",
        "my_print()\n"
      ],
      "metadata": {
        "colab": {
          "base_uri": "https://localhost:8080/"
        },
        "id": "-OeHODvVUwUc",
        "outputId": "f7783b1e-8695-4dd0-d8cf-bd2554a032f9"
      },
      "execution_count": null,
      "outputs": [
        {
          "output_type": "stream",
          "name": "stdout",
          "text": [
            "hello\n",
            "my default message\n"
          ]
        }
      ]
    },
    {
      "cell_type": "code",
      "source": [
        "def full_name(first = \"What's-his-name\", last = \"Something\"):\n",
        "  return first + \" \" + last\n",
        "\n",
        "full_name(\"Joel\", \"Grus\")\n",
        "full_name()"
      ],
      "metadata": {
        "colab": {
          "base_uri": "https://localhost:8080/",
          "height": 35
        },
        "id": "OUk4i0CafMea",
        "outputId": "0b3b84bd-46fe-4d8b-8e44-aa7612c3740a"
      },
      "execution_count": null,
      "outputs": [
        {
          "output_type": "execute_result",
          "data": {
            "text/plain": [
              "\"What's-his-name Something\""
            ],
            "application/vnd.google.colaboratory.intrinsic+json": {
              "type": "string"
            }
          },
          "metadata": {},
          "execution_count": 12
        }
      ]
    },
    {
      "cell_type": "code",
      "source": [
        "single_quoted_string = 'data science'\n",
        "double_quoted_string = \"data science\"\n",
        "\n",
        "#\\t는 tab로, tab_string의 길이를 출력할 때 1로 출력됨\n",
        "tab_string = \"\\t\"\n",
        "print(\"tab 길이:\",len(tab_string))\n",
        "print(\"실질적인 출력:\",1,tab_string, 1)"
      ],
      "metadata": {
        "id": "3s0FE2_0e-4W",
        "colab": {
          "base_uri": "https://localhost:8080/"
        },
        "outputId": "23d40d12-c9cd-4d02-daee-257cc5e9f1af"
      },
      "execution_count": null,
      "outputs": [
        {
          "output_type": "stream",
          "name": "stdout",
          "text": [
            "tab 길이: 1\n",
            "tab 출력 확인: 1 \t 1\n"
          ]
        }
      ]
    },
    {
      "cell_type": "code",
      "source": [
        "#\\t를 문자 그대로 출력\n",
        "not_tab_string = r\"\\t\"\n",
        "print(\"not_tab_string 길이:\", len(not_tab_string))\n",
        "print(\"실질적인 출력:\", not_tab_string)"
      ],
      "metadata": {
        "colab": {
          "base_uri": "https://localhost:8080/"
        },
        "id": "8xnkpiOmleND",
        "outputId": "6783c195-1135-49d0-dff7-3bcbc23f4fc9"
      },
      "execution_count": null,
      "outputs": [
        {
          "output_type": "stream",
          "name": "stdout",
          "text": [
            "not_tab_string 길이: 2\n",
            "실질적인 출력: \\t\n"
          ]
        }
      ]
    },
    {
      "cell_type": "code",
      "source": [
        "#따옴표 3개하면 하나의 문자열을 여러 줄로 나눌 수 있음\n",
        "multi_line_string = \"\"\"This is the first line.\n",
        "and this is the second line.\n",
        "and this is the third line\"\"\"\n",
        "print(multi_line_string)"
      ],
      "metadata": {
        "colab": {
          "base_uri": "https://localhost:8080/"
        },
        "id": "8gSshniTnOSM",
        "outputId": "b4e1e188-5f6c-4b19-94ca-b6d6b4c82042"
      },
      "execution_count": null,
      "outputs": [
        {
          "output_type": "stream",
          "name": "stdout",
          "text": [
            "This is the first line.\n",
            "and this is the second line.\n",
            "and this is the third line\n"
          ]
        }
      ]
    },
    {
      "cell_type": "code",
      "source": [
        "first_name = \"Joel\"\n",
        "last_name = \"Grus\"\n",
        "\n",
        "#full name으로 표시하는 다양한 방법\n",
        "full_name1 = first_name + \" \" + last_name\n",
        "full_name2 = \"{0} {1}\".format(first_name, last_name)\n",
        "\n",
        "print(full_name1)\n",
        "print(full_name2)"
      ],
      "metadata": {
        "colab": {
          "base_uri": "https://localhost:8080/"
        },
        "id": "1GPYjIsmn8Qv",
        "outputId": "a3898751-3411-4137-eac4-91eb2656588b"
      },
      "execution_count": null,
      "outputs": [
        {
          "output_type": "stream",
          "name": "stdout",
          "text": [
            "Joel Grus\n",
            "Joel Grus\n"
          ]
        }
      ]
    },
    {
      "cell_type": "code",
      "source": [
        "#가장 간편한 방법\n",
        "full_name3 = f\"{first_name} {last_name}\"\n",
        "full_name3"
      ],
      "metadata": {
        "colab": {
          "base_uri": "https://localhost:8080/",
          "height": 35
        },
        "id": "okHddAecog08",
        "outputId": "f5626d04-325c-417a-fb7e-15c3e596aa33"
      },
      "execution_count": null,
      "outputs": [
        {
          "output_type": "execute_result",
          "data": {
            "text/plain": [
              "'Joel Grus'"
            ],
            "application/vnd.google.colaboratory.intrinsic+json": {
              "type": "string"
            }
          },
          "metadata": {},
          "execution_count": 13
        }
      ]
    },
    {
      "cell_type": "code",
      "source": [
        "#예외 처리\n",
        "\n",
        "try:\n",
        "  print(0 / 0)\n",
        "except:\n",
        "  print(\"cannot divide by zero\")\n"
      ],
      "metadata": {
        "colab": {
          "base_uri": "https://localhost:8080/"
        },
        "id": "HzvS-nlUovM4",
        "outputId": "f57e44c9-a2ef-46d0-f77f-c7317271c6ce"
      },
      "execution_count": null,
      "outputs": [
        {
          "output_type": "stream",
          "name": "stdout",
          "text": [
            "cannot divide by zero\n"
          ]
        }
      ]
    },
    {
      "cell_type": "code",
      "source": [
        "integer_list = [1,2,3]\n",
        "heterogenerous_list = [\"string\", 0.1, True]\n",
        "list_of_lists = [integer_list, heterogenerous_list, []]\n",
        "\n",
        "list_length = len(integer_list)\n",
        "list_sum = sum(integer_list)\n",
        "\n",
        "print(\"list_length:\", list_length)\n",
        "print(\"list_sum:\", list_sum) "
      ],
      "metadata": {
        "colab": {
          "base_uri": "https://localhost:8080/"
        },
        "id": "jW3ERxEso7rr",
        "outputId": "10e795a9-4103-4c75-f874-4a21a19a417c"
      },
      "execution_count": null,
      "outputs": [
        {
          "output_type": "stream",
          "name": "stdout",
          "text": [
            "list_length: 3\n",
            "list_sum: 6\n"
          ]
        }
      ]
    },
    {
      "cell_type": "code",
      "source": [
        "x = [0,1,2,3,4,5,6,7,8,9]\n",
        "\n",
        "zero = x[0]"
      ],
      "metadata": {
        "id": "zuVp3aD9qQvP"
      },
      "execution_count": null,
      "outputs": []
    },
    {
      "cell_type": "code",
      "source": [
        "first_three = x[:3]\n",
        "three_to_end = x[3:]\n",
        "last_three = x[-3:]\n",
        "last_three"
      ],
      "metadata": {
        "colab": {
          "base_uri": "https://localhost:8080/"
        },
        "id": "cAJOzb0ywBlz",
        "outputId": "80eab22a-74bb-44e4-9067-ef7b2e0f1dbe"
      },
      "execution_count": null,
      "outputs": [
        {
          "output_type": "execute_result",
          "data": {
            "text/plain": [
              "[7, 8, 9]"
            ]
          },
          "metadata": {},
          "execution_count": 5
        }
      ]
    },
    {
      "cell_type": "code",
      "source": [
        "every_third = x[::3]\n",
        "five_to_three = x[5:2:-1]\n",
        "print(\"every_third:\", every_third)\n",
        "print(\"five_to_three:\", five_to_three)"
      ],
      "metadata": {
        "colab": {
          "base_uri": "https://localhost:8080/"
        },
        "id": "0lWuvVFqwQa7",
        "outputId": "885a909b-3398-4527-b333-6a89dbb9b132"
      },
      "execution_count": null,
      "outputs": [
        {
          "output_type": "stream",
          "name": "stdout",
          "text": [
            "every_third: [0, 3, 6, 9]\n",
            "five_to_three: [5, 4, 3]\n"
          ]
        }
      ]
    },
    {
      "cell_type": "code",
      "source": [
        "1 in [1,2,3]"
      ],
      "metadata": {
        "colab": {
          "base_uri": "https://localhost:8080/"
        },
        "id": "wQkohr7Vwy4f",
        "outputId": "051cd4af-0a1b-429e-8b3b-47b562e665ea"
      },
      "execution_count": null,
      "outputs": [
        {
          "output_type": "execute_result",
          "data": {
            "text/plain": [
              "True"
            ]
          },
          "metadata": {},
          "execution_count": 8
        }
      ]
    },
    {
      "cell_type": "code",
      "source": [
        "0 in [1,2,3]"
      ],
      "metadata": {
        "colab": {
          "base_uri": "https://localhost:8080/"
        },
        "id": "hssrCco3xB7u",
        "outputId": "536eae8a-483e-439d-8fa0-a6661cf799aa"
      },
      "execution_count": null,
      "outputs": [
        {
          "output_type": "execute_result",
          "data": {
            "text/plain": [
              "False"
            ]
          },
          "metadata": {},
          "execution_count": 9
        }
      ]
    },
    {
      "cell_type": "code",
      "source": [
        "#리스트를 연결하는 방법\n",
        "x = [1,2,3]\n",
        "x.extend([4,5,6])"
      ],
      "metadata": {
        "id": "PGiOXTAQxD7w"
      },
      "execution_count": null,
      "outputs": []
    },
    {
      "cell_type": "code",
      "source": [
        "x"
      ],
      "metadata": {
        "colab": {
          "base_uri": "https://localhost:8080/"
        },
        "id": "XRfpVyBLxMNa",
        "outputId": "b8e3dc88-d7ab-4fa5-a00b-659d34a84aa8"
      },
      "execution_count": null,
      "outputs": [
        {
          "output_type": "execute_result",
          "data": {
            "text/plain": [
              "[1, 2, 3, 4, 5, 6]"
            ]
          },
          "metadata": {},
          "execution_count": 11
        }
      ]
    },
    {
      "cell_type": "code",
      "source": [
        "#x를 변화시키지 않고 새로운 변수에 값을 추가하여 새로운 리스트로 저장\n",
        "x = [1,2,3]\n",
        "y = x + [4,5,6]\n",
        "y"
      ],
      "metadata": {
        "colab": {
          "base_uri": "https://localhost:8080/"
        },
        "id": "Fac433arxNOe",
        "outputId": "1a60d7d3-23d7-4b08-8192-96cd2fdb0cd5"
      },
      "execution_count": null,
      "outputs": [
        {
          "output_type": "execute_result",
          "data": {
            "text/plain": [
              "[1, 2, 3, 4, 5, 6]"
            ]
          },
          "metadata": {},
          "execution_count": 12
        }
      ]
    },
    {
      "cell_type": "code",
      "source": [
        "x = [1,2,3]\n",
        "x.append(0)\n",
        "y = x[-1]\n",
        "z = len(x)\n",
        "print(\"y:\",y)\n",
        "print(\"z:\",z)"
      ],
      "metadata": {
        "colab": {
          "base_uri": "https://localhost:8080/"
        },
        "id": "2WSxpXN8xTjM",
        "outputId": "7fdd3e9c-d3ae-445a-bcee-f740d0d97bb6"
      },
      "execution_count": null,
      "outputs": [
        {
          "output_type": "stream",
          "name": "stdout",
          "text": [
            "y: 0\n",
            "z: 4\n"
          ]
        }
      ]
    },
    {
      "cell_type": "code",
      "source": [
        "x, y = [1,2]\n",
        "print(\"x:\", x)\n",
        "print(\"y:\", y)"
      ],
      "metadata": {
        "colab": {
          "base_uri": "https://localhost:8080/"
        },
        "id": "aGEAzK7rxg_f",
        "outputId": "0ffb9dee-7751-4187-c240-1a2e7a703683"
      },
      "execution_count": null,
      "outputs": [
        {
          "output_type": "stream",
          "name": "stdout",
          "text": [
            "x: 1\n",
            "y: 2\n"
          ]
        }
      ]
    },
    {
      "cell_type": "code",
      "source": [
        "_,y = [1,2]\n",
        "_ #변수를 위와 같은 방식으로 리스트를 이용해서 한꺼번에 저장할 때 개수가 맞지 않다면 에러가 뜨는데 그걸 방지하기 위해 주로 버리는 값은 _를 쓴다. \n",
        "  #근데 _에 값이 저장되기는 한다"
      ],
      "metadata": {
        "colab": {
          "base_uri": "https://localhost:8080/"
        },
        "id": "ARh0jTCjxyoy",
        "outputId": "0a35c09e-58f6-43a2-fc7e-19e991361005"
      },
      "execution_count": null,
      "outputs": [
        {
          "output_type": "execute_result",
          "data": {
            "text/plain": [
              "1"
            ]
          },
          "metadata": {},
          "execution_count": 17
        }
      ]
    },
    {
      "cell_type": "code",
      "source": [
        "my_list = [1,2]\n",
        "my_tuple = (1,2)\n",
        "other_tuple = 3, 4 #이렇게 아무것도 없이 가능\n",
        "my_list[1] = 3 #my_list의 2번째 값을 2에서 3으로 변경"
      ],
      "metadata": {
        "id": "CSQpdRJKx29M"
      },
      "execution_count": null,
      "outputs": []
    },
    {
      "cell_type": "code",
      "source": [
        "try: #튜플은 값을 추가하거나 변경할 수 없다\n",
        "  my_tuple[1] = 3\n",
        "except TypeError:\n",
        "  print(\"cannot modify a tuple\")"
      ],
      "metadata": {
        "colab": {
          "base_uri": "https://localhost:8080/"
        },
        "id": "6vbEBdyvyx3-",
        "outputId": "8132d3ca-c171-44da-94e6-539550f85bfb"
      },
      "execution_count": null,
      "outputs": [
        {
          "output_type": "stream",
          "name": "stdout",
          "text": [
            "cannot modify a tuple\n"
          ]
        }
      ]
    },
    {
      "cell_type": "code",
      "source": [
        "def sum_and_product(x,y):\n",
        "  return (x+y), (x*y)\n",
        "\n",
        "sp = sum_and_product(2,3)\n",
        "s, p = sum_and_product(5, 10)"
      ],
      "metadata": {
        "id": "D7SeXZq9zEib"
      },
      "execution_count": null,
      "outputs": []
    },
    {
      "cell_type": "code",
      "source": [
        "#튜플 다중 할당 가능\n",
        "x,y = 1,2\n",
        "print(\"x:\", x)\n",
        "print(\"y:\", y)\n",
        "x,y = y, x\n",
        "print(\"x:\", x)\n",
        "print(\"y:\", y)"
      ],
      "metadata": {
        "colab": {
          "base_uri": "https://localhost:8080/"
        },
        "id": "ETj3yfVFziV1",
        "outputId": "10dfbc58-78ce-455a-854b-c28d77a477e8"
      },
      "execution_count": null,
      "outputs": [
        {
          "output_type": "stream",
          "name": "stdout",
          "text": [
            "x: 1\n",
            "y: 2\n",
            "x: 2\n",
            "y: 1\n"
          ]
        }
      ]
    },
    {
      "cell_type": "code",
      "source": [
        "#딕셔너리\n",
        "empty_dict = {}\n",
        "empty_dict2 = dict() #이건 가능하다 정도\n",
        "grades = {\"joel\" : 80, \"Tim\" : 95}\n",
        "\n",
        "joels_grade = grades[\"joel\"]\n",
        "joels_grade"
      ],
      "metadata": {
        "colab": {
          "base_uri": "https://localhost:8080/"
        },
        "id": "TcwQ5IfA0Kv7",
        "outputId": "58a92fe3-abb5-4796-966b-d894ce9258ab"
      },
      "execution_count": 6,
      "outputs": [
        {
          "output_type": "execute_result",
          "data": {
            "text/plain": [
              "80"
            ]
          },
          "metadata": {},
          "execution_count": 6
        }
      ]
    },
    {
      "cell_type": "code",
      "source": [
        "try:\n",
        "  kates_grade = grades[\"kate\"]\n",
        "except KeyError:\n",
        "  print(\"no grade for Kate!\")"
      ],
      "metadata": {
        "colab": {
          "base_uri": "https://localhost:8080/"
        },
        "id": "0CsWIC8U1Eau",
        "outputId": "ce40dc35-3abe-4f37-a9fe-3a2a0869945d"
      },
      "execution_count": null,
      "outputs": [
        {
          "output_type": "stream",
          "name": "stdout",
          "text": [
            "no grade for Kate!\n"
          ]
        }
      ]
    },
    {
      "cell_type": "code",
      "source": [
        "joel_has_grade = \"joel\" in grades\n",
        "joel_has_grade"
      ],
      "metadata": {
        "colab": {
          "base_uri": "https://localhost:8080/"
        },
        "id": "WUMDxchQ1RLS",
        "outputId": "b1c1066b-c3c7-4e3e-8973-c5210833604a"
      },
      "execution_count": null,
      "outputs": [
        {
          "output_type": "execute_result",
          "data": {
            "text/plain": [
              "True"
            ]
          },
          "metadata": {},
          "execution_count": 28
        }
      ]
    },
    {
      "cell_type": "code",
      "source": [
        "kate_has_grade = \"Kate\" in grades\n",
        "kate_has_grade"
      ],
      "metadata": {
        "colab": {
          "base_uri": "https://localhost:8080/"
        },
        "id": "iGz77Uu31WAp",
        "outputId": "59ecc3e0-0b37-4886-b730-ab8a3c10dc6f"
      },
      "execution_count": null,
      "outputs": [
        {
          "output_type": "execute_result",
          "data": {
            "text/plain": [
              "False"
            ]
          },
          "metadata": {},
          "execution_count": 29
        }
      ]
    },
    {
      "cell_type": "code",
      "source": [
        "joels_grade = grades.get(\"joels\", 0)\n",
        "kates_grade = grades.get(\"Kate\", 0)\n",
        "no_ones_grade = grades.get(\"No one\")\n",
        "print(joels_grade)\n",
        "print(kates_grade)\n",
        "print(no_ones_grade)"
      ],
      "metadata": {
        "id": "bYV-_oq51dyP",
        "colab": {
          "base_uri": "https://localhost:8080/"
        },
        "outputId": "6831ce6e-0bd6-481a-e977-4b974c6b5dfb"
      },
      "execution_count": 7,
      "outputs": [
        {
          "output_type": "stream",
          "name": "stdout",
          "text": [
            "0\n",
            "0\n",
            "None\n"
          ]
        }
      ]
    },
    {
      "cell_type": "code",
      "source": [
        "grades[\"Tim\"] = 99\n",
        "grades[\"Kate\"] = 100\n",
        "num_students = len(grades)"
      ],
      "metadata": {
        "id": "ArI4O_ew1r6c"
      },
      "execution_count": 8,
      "outputs": []
    },
    {
      "cell_type": "code",
      "source": [
        "print(grades)\n",
        "print(num_students)"
      ],
      "metadata": {
        "colab": {
          "base_uri": "https://localhost:8080/"
        },
        "id": "cTbobbbsDacV",
        "outputId": "35ef0602-88dd-4715-e79f-13cb74e9ad10"
      },
      "execution_count": 9,
      "outputs": [
        {
          "output_type": "stream",
          "name": "stdout",
          "text": [
            "{'joel': 80, 'Tim': 99, 'Kate': 100}\n",
            "3\n"
          ]
        }
      ]
    },
    {
      "cell_type": "code",
      "source": [
        ""
      ],
      "metadata": {
        "id": "AEwqROOYDdNt"
      },
      "execution_count": null,
      "outputs": []
    }
  ]
}