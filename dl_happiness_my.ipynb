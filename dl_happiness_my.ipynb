{
  "nbformat": 4,
  "nbformat_minor": 0,
  "metadata": {
    "colab": {
      "name": "dl_happiness_my.ipynb",
      "provenance": [],
      "authorship_tag": "ABX9TyNV2eLSKAhCABLogMvAw1CP",
      "include_colab_link": true
    },
    "kernelspec": {
      "name": "python3",
      "display_name": "Python 3"
    },
    "language_info": {
      "name": "python"
    }
  },
  "cells": [
    {
      "cell_type": "markdown",
      "metadata": {
        "id": "view-in-github",
        "colab_type": "text"
      },
      "source": [
        "<a href=\"https://colab.research.google.com/github/Uh-hub/avocado/blob/circleci-project-setup/dl_happiness_my.ipynb\" target=\"_parent\"><img src=\"https://colab.research.google.com/assets/colab-badge.svg\" alt=\"Open In Colab\"/></a>"
      ]
    },
    {
      "cell_type": "code",
      "metadata": {
        "id": "RRZmhD2Xl2Rj"
      },
      "source": [
        "import numpy as np\n",
        "import pandas as pd\n",
        "import tensorflow as tf\n",
        "import matplotlib.pyplot as plt\n",
        "from sklearn.model_selection import train_test_split"
      ],
      "execution_count": null,
      "outputs": []
    },
    {
      "cell_type": "code",
      "metadata": {
        "id": "StDrjOFJmGau"
      },
      "source": [
        "df = pd.read_csv('/content/2019.csv')\n",
        "df.head()\n",
        "df_1 = df[['Score','GDP per capita', 'Social support','Healthy life expectancy','Freedom to make life choices','Generosity','Perceptions of corruption']]\n"
      ],
      "execution_count": null,
      "outputs": []
    },
    {
      "cell_type": "code",
      "metadata": {
        "colab": {
          "base_uri": "https://localhost:8080/"
        },
        "id": "Vb77VWcHmeUZ",
        "outputId": "49321ad9-54e9-4fb0-dd20-ed8a00d424e9"
      },
      "source": [
        "df_1.info()"
      ],
      "execution_count": null,
      "outputs": [
        {
          "output_type": "stream",
          "text": [
            "<class 'pandas.core.frame.DataFrame'>\n",
            "RangeIndex: 156 entries, 0 to 155\n",
            "Data columns (total 7 columns):\n",
            " #   Column                        Non-Null Count  Dtype  \n",
            "---  ------                        --------------  -----  \n",
            " 0   Score                         156 non-null    float64\n",
            " 1   GDP per capita                156 non-null    float64\n",
            " 2   Social support                156 non-null    float64\n",
            " 3   Healthy life expectancy       156 non-null    float64\n",
            " 4   Freedom to make life choices  156 non-null    float64\n",
            " 5   Generosity                    156 non-null    float64\n",
            " 6   Perceptions of corruption     156 non-null    float64\n",
            "dtypes: float64(7)\n",
            "memory usage: 8.7 KB\n"
          ],
          "name": "stdout"
        }
      ]
    },
    {
      "cell_type": "code",
      "metadata": {
        "colab": {
          "base_uri": "https://localhost:8080/",
          "height": 204
        },
        "id": "rncbc7xYmjLl",
        "outputId": "329ff262-0c9c-4b6c-df3d-2e753a0ccc29"
      },
      "source": [
        "train, test = train_test_split(df_1, train_size = 0.85, random_state = 777)\n",
        "train.head()"
      ],
      "execution_count": null,
      "outputs": [
        {
          "output_type": "execute_result",
          "data": {
            "text/html": [
              "<div>\n",
              "<style scoped>\n",
              "    .dataframe tbody tr th:only-of-type {\n",
              "        vertical-align: middle;\n",
              "    }\n",
              "\n",
              "    .dataframe tbody tr th {\n",
              "        vertical-align: top;\n",
              "    }\n",
              "\n",
              "    .dataframe thead th {\n",
              "        text-align: right;\n",
              "    }\n",
              "</style>\n",
              "<table border=\"1\" class=\"dataframe\">\n",
              "  <thead>\n",
              "    <tr style=\"text-align: right;\">\n",
              "      <th></th>\n",
              "      <th>Score</th>\n",
              "      <th>GDP per capita</th>\n",
              "      <th>Social support</th>\n",
              "      <th>Healthy life expectancy</th>\n",
              "      <th>Freedom to make life choices</th>\n",
              "      <th>Generosity</th>\n",
              "      <th>Perceptions of corruption</th>\n",
              "    </tr>\n",
              "  </thead>\n",
              "  <tbody>\n",
              "    <tr>\n",
              "      <th>83</th>\n",
              "      <td>5.274</td>\n",
              "      <td>0.983</td>\n",
              "      <td>1.294</td>\n",
              "      <td>0.838</td>\n",
              "      <td>0.345</td>\n",
              "      <td>0.185</td>\n",
              "      <td>0.034</td>\n",
              "    </tr>\n",
              "    <tr>\n",
              "      <th>45</th>\n",
              "      <td>6.100</td>\n",
              "      <td>0.882</td>\n",
              "      <td>1.232</td>\n",
              "      <td>0.758</td>\n",
              "      <td>0.489</td>\n",
              "      <td>0.262</td>\n",
              "      <td>0.006</td>\n",
              "    </tr>\n",
              "    <tr>\n",
              "      <th>123</th>\n",
              "      <td>4.461</td>\n",
              "      <td>0.921</td>\n",
              "      <td>1.000</td>\n",
              "      <td>0.815</td>\n",
              "      <td>0.167</td>\n",
              "      <td>0.059</td>\n",
              "      <td>0.055</td>\n",
              "    </tr>\n",
              "    <tr>\n",
              "      <th>33</th>\n",
              "      <td>6.262</td>\n",
              "      <td>1.572</td>\n",
              "      <td>1.463</td>\n",
              "      <td>1.141</td>\n",
              "      <td>0.556</td>\n",
              "      <td>0.271</td>\n",
              "      <td>0.453</td>\n",
              "    </tr>\n",
              "    <tr>\n",
              "      <th>107</th>\n",
              "      <td>4.707</td>\n",
              "      <td>0.960</td>\n",
              "      <td>1.427</td>\n",
              "      <td>0.805</td>\n",
              "      <td>0.154</td>\n",
              "      <td>0.064</td>\n",
              "      <td>0.047</td>\n",
              "    </tr>\n",
              "  </tbody>\n",
              "</table>\n",
              "</div>"
            ],
            "text/plain": [
              "     Score  GDP per capita  ...  Generosity  Perceptions of corruption\n",
              "83   5.274           0.983  ...       0.185                      0.034\n",
              "45   6.100           0.882  ...       0.262                      0.006\n",
              "123  4.461           0.921  ...       0.059                      0.055\n",
              "33   6.262           1.572  ...       0.271                      0.453\n",
              "107  4.707           0.960  ...       0.064                      0.047\n",
              "\n",
              "[5 rows x 7 columns]"
            ]
          },
          "metadata": {
            "tags": []
          },
          "execution_count": 4
        }
      ]
    },
    {
      "cell_type": "code",
      "metadata": {
        "colab": {
          "base_uri": "https://localhost:8080/"
        },
        "id": "WCDgGIKett0v",
        "outputId": "37be10c4-ddaa-43f8-bfd3-9101be232978"
      },
      "source": [
        "test.info()"
      ],
      "execution_count": null,
      "outputs": [
        {
          "output_type": "stream",
          "text": [
            "<class 'pandas.core.frame.DataFrame'>\n",
            "Int64Index: 24 entries, 73 to 1\n",
            "Data columns (total 7 columns):\n",
            " #   Column                        Non-Null Count  Dtype  \n",
            "---  ------                        --------------  -----  \n",
            " 0   Score                         24 non-null     float64\n",
            " 1   GDP per capita                24 non-null     float64\n",
            " 2   Social support                24 non-null     float64\n",
            " 3   Healthy life expectancy       24 non-null     float64\n",
            " 4   Freedom to make life choices  24 non-null     float64\n",
            " 5   Generosity                    24 non-null     float64\n",
            " 6   Perceptions of corruption     24 non-null     float64\n",
            "dtypes: float64(7)\n",
            "memory usage: 1.5 KB\n"
          ],
          "name": "stdout"
        }
      ]
    },
    {
      "cell_type": "code",
      "metadata": {
        "colab": {
          "base_uri": "https://localhost:8080/"
        },
        "id": "SsBO40YynY7I",
        "outputId": "f7b4162f-3967-4ac1-8334-f6c8c2310766"
      },
      "source": [
        "train_X, train_Y = train.iloc[:, 1:], train.iloc[:,:1]\n",
        "test_X, test_Y = test.iloc[:,1:], test.iloc[:,:1]\n",
        "print(train_X.shape)\n",
        "print(train_Y.shape)\n",
        "print(test_X.shape)\n",
        "print(test_Y.shape)"
      ],
      "execution_count": null,
      "outputs": [
        {
          "output_type": "stream",
          "text": [
            "(132, 6)\n",
            "(132, 1)\n",
            "(24, 6)\n",
            "(24, 1)\n"
          ],
          "name": "stdout"
        }
      ]
    },
    {
      "cell_type": "code",
      "metadata": {
        "id": "orSdQesirlpD"
      },
      "source": [
        "happiness = tf.keras.Sequential([\n",
        "                                 tf.keras.layers.Dense(units = 50,\n",
        "                                                       activation = 'relu',\n",
        "                                                       input_shape = (6,)),\n",
        "                                 tf.keras.layers.Dense(units=20,\n",
        "                                                       activation = 'relu'),\n",
        "                                 tf.keras.layers.Dense(units=30,\n",
        "                                                       activation = 'relu'),\n",
        "                                 tf.keras.layers.Dense(units=10,\n",
        "                                                       activation = 'relu'),\n",
        "                                 tf.keras.layers.Dense(units=30,\n",
        "                                                       activation = 'sigmoid'),\n",
        "\n",
        "])"
      ],
      "execution_count": null,
      "outputs": []
    },
    {
      "cell_type": "code",
      "metadata": {
        "colab": {
          "base_uri": "https://localhost:8080/"
        },
        "id": "gH7ZjFdQsV9y",
        "outputId": "551f7d06-409f-4c0f-e824-0f88499954bb"
      },
      "source": [
        "happiness.summary()"
      ],
      "execution_count": null,
      "outputs": [
        {
          "output_type": "stream",
          "text": [
            "Model: \"sequential\"\n",
            "_________________________________________________________________\n",
            "Layer (type)                 Output Shape              Param #   \n",
            "=================================================================\n",
            "dense (Dense)                (None, 40)                280       \n",
            "_________________________________________________________________\n",
            "dense_1 (Dense)              (None, 20)                820       \n",
            "_________________________________________________________________\n",
            "dense_2 (Dense)              (None, 30)                630       \n",
            "=================================================================\n",
            "Total params: 1,730\n",
            "Trainable params: 1,730\n",
            "Non-trainable params: 0\n",
            "_________________________________________________________________\n"
          ],
          "name": "stdout"
        }
      ]
    },
    {
      "cell_type": "code",
      "metadata": {
        "id": "7XrUn1KgsYOj"
      },
      "source": [
        "happiness.compile(optimizer=tf.keras.optimizers.Adam(learning_rate=0.1),\n",
        "                  loss='mse', metrics = ['accuracy'])"
      ],
      "execution_count": null,
      "outputs": []
    },
    {
      "cell_type": "code",
      "metadata": {
        "colab": {
          "base_uri": "https://localhost:8080/"
        },
        "id": "lyUyUzq8sree",
        "outputId": "0f9622db-9904-4ee2-ec1a-0c5d62d2f632"
      },
      "source": [
        "history = happiness.fit(train_X, train_Y, epochs = 30, batch_size = 20)"
      ],
      "execution_count": null,
      "outputs": [
        {
          "output_type": "stream",
          "text": [
            "Epoch 1/30\n",
            "7/7 [==============================] - 0s 3ms/step - loss: 20.8777 - accuracy: 0.0000e+00\n",
            "Epoch 2/30\n",
            "7/7 [==============================] - 0s 2ms/step - loss: 20.8777 - accuracy: 0.0000e+00\n",
            "Epoch 3/30\n",
            "7/7 [==============================] - 0s 3ms/step - loss: 20.8777 - accuracy: 0.0000e+00\n",
            "Epoch 4/30\n",
            "7/7 [==============================] - 0s 4ms/step - loss: 20.8777 - accuracy: 0.0000e+00\n",
            "Epoch 5/30\n",
            "7/7 [==============================] - 0s 3ms/step - loss: 20.8777 - accuracy: 0.0000e+00\n",
            "Epoch 6/30\n",
            "7/7 [==============================] - 0s 3ms/step - loss: 20.8777 - accuracy: 0.0000e+00\n",
            "Epoch 7/30\n",
            "7/7 [==============================] - 0s 3ms/step - loss: 20.8777 - accuracy: 0.0000e+00\n",
            "Epoch 8/30\n",
            "7/7 [==============================] - 0s 2ms/step - loss: 20.8777 - accuracy: 0.0000e+00\n",
            "Epoch 9/30\n",
            "7/7 [==============================] - 0s 2ms/step - loss: 20.8777 - accuracy: 0.0000e+00\n",
            "Epoch 10/30\n",
            "7/7 [==============================] - 0s 3ms/step - loss: 20.8777 - accuracy: 0.0000e+00\n",
            "Epoch 11/30\n",
            "7/7 [==============================] - 0s 2ms/step - loss: 20.8777 - accuracy: 0.0000e+00\n",
            "Epoch 12/30\n",
            "7/7 [==============================] - 0s 2ms/step - loss: 20.8777 - accuracy: 0.0000e+00\n",
            "Epoch 13/30\n",
            "7/7 [==============================] - 0s 3ms/step - loss: 20.8777 - accuracy: 0.0000e+00\n",
            "Epoch 14/30\n",
            "7/7 [==============================] - 0s 3ms/step - loss: 20.8777 - accuracy: 0.0000e+00\n",
            "Epoch 15/30\n",
            "7/7 [==============================] - 0s 3ms/step - loss: 20.8777 - accuracy: 0.0000e+00\n",
            "Epoch 16/30\n",
            "7/7 [==============================] - 0s 2ms/step - loss: 20.8777 - accuracy: 0.0000e+00\n",
            "Epoch 17/30\n",
            "7/7 [==============================] - 0s 2ms/step - loss: 20.8777 - accuracy: 0.0000e+00\n",
            "Epoch 18/30\n",
            "7/7 [==============================] - 0s 3ms/step - loss: 20.8777 - accuracy: 0.0000e+00\n",
            "Epoch 19/30\n",
            "7/7 [==============================] - 0s 3ms/step - loss: 20.8777 - accuracy: 0.0000e+00\n",
            "Epoch 20/30\n",
            "7/7 [==============================] - 0s 2ms/step - loss: 20.8777 - accuracy: 0.0000e+00\n",
            "Epoch 21/30\n",
            "7/7 [==============================] - 0s 2ms/step - loss: 20.8777 - accuracy: 0.0000e+00\n",
            "Epoch 22/30\n",
            "7/7 [==============================] - 0s 2ms/step - loss: 20.8777 - accuracy: 0.0000e+00\n",
            "Epoch 23/30\n",
            "7/7 [==============================] - 0s 3ms/step - loss: 20.8777 - accuracy: 0.0000e+00\n",
            "Epoch 24/30\n",
            "7/7 [==============================] - 0s 4ms/step - loss: 20.8777 - accuracy: 0.0000e+00\n",
            "Epoch 25/30\n",
            "7/7 [==============================] - 0s 4ms/step - loss: 20.8777 - accuracy: 0.0000e+00\n",
            "Epoch 26/30\n",
            "7/7 [==============================] - 0s 3ms/step - loss: 20.8777 - accuracy: 0.0000e+00\n",
            "Epoch 27/30\n",
            "7/7 [==============================] - 0s 2ms/step - loss: 20.8777 - accuracy: 0.0000e+00\n",
            "Epoch 28/30\n",
            "7/7 [==============================] - 0s 3ms/step - loss: 20.8777 - accuracy: 0.0000e+00\n",
            "Epoch 29/30\n",
            "7/7 [==============================] - 0s 2ms/step - loss: 20.8777 - accuracy: 0.0000e+00\n",
            "Epoch 30/30\n",
            "7/7 [==============================] - 0s 3ms/step - loss: 20.8777 - accuracy: 0.0000e+00\n"
          ],
          "name": "stdout"
        }
      ]
    },
    {
      "cell_type": "code",
      "metadata": {
        "colab": {
          "base_uri": "https://localhost:8080/",
          "height": 279
        },
        "id": "hi2pp8PJxQ82",
        "outputId": "8661ac5a-462f-4690-90d3-99753af42a95"
      },
      "source": [
        "plt.figure(figsize=(12,4))\n",
        "plt.plot(history.history['loss'], 'b--o', label = 'loss')\n",
        "plt.plot(history.history['accuracy'], 'r--o', label = 'acc')\n",
        "plt.xlabel('Epoch')\n",
        "plt.ylabel('Loss')\n",
        "plt.legend()\n",
        "plt.grid()\n",
        "plt.show()"
      ],
      "execution_count": null,
      "outputs": [
        {
          "output_type": "display_data",
          "data": {
            "image/png": "[encoded data removed]",
            "text/plain": [
              "<Figure size 864x288 with 1 Axes>"
            ]
          },
          "metadata": {
            "tags": [],
            "needs_background": "light"
          }
        }
      ]
    },
    {
      "cell_type": "code",
      "metadata": {
        "colab": {
          "base_uri": "https://localhost:8080/"
        },
        "id": "S8cuRyBo1pmf",
        "outputId": "307c7fc8-0153-4c06-a8b7-01c438b57cc1"
      },
      "source": [
        "test_X.info()"
      ],
      "execution_count": null,
      "outputs": [
        {
          "output_type": "stream",
          "text": [
            "<class 'pandas.core.frame.DataFrame'>\n",
            "Int64Index: 24 entries, 73 to 1\n",
            "Data columns (total 6 columns):\n",
            " #   Column                        Non-Null Count  Dtype  \n",
            "---  ------                        --------------  -----  \n",
            " 0   GDP per capita                24 non-null     float64\n",
            " 1   Social support                24 non-null     float64\n",
            " 2   Healthy life expectancy       24 non-null     float64\n",
            " 3   Freedom to make life choices  24 non-null     float64\n",
            " 4   Generosity                    24 non-null     float64\n",
            " 5   Perceptions of corruption     24 non-null     float64\n",
            "dtypes: float64(6)\n",
            "memory usage: 1.3 KB\n"
          ],
          "name": "stdout"
        }
      ]
    },
    {
      "cell_type": "code",
      "metadata": {
        "colab": {
          "base_uri": "https://localhost:8080/"
        },
        "id": "CZ7Na6Hs1tW1",
        "outputId": "d020c708-5b06-4e56-d7c8-84bfac9a19c3"
      },
      "source": [
        "test_Y.info()"
      ],
      "execution_count": null,
      "outputs": [
        {
          "output_type": "stream",
          "text": [
            "<class 'pandas.core.frame.DataFrame'>\n",
            "Int64Index: 24 entries, 73 to 1\n",
            "Data columns (total 1 columns):\n",
            " #   Column  Non-Null Count  Dtype  \n",
            "---  ------  --------------  -----  \n",
            " 0   Score   24 non-null     float64\n",
            "dtypes: float64(1)\n",
            "memory usage: 384.0 bytes\n"
          ],
          "name": "stdout"
        }
      ]
    },
    {
      "cell_type": "code",
      "metadata": {
        "colab": {
          "base_uri": "https://localhost:8080/"
        },
        "id": "Acvdn5bL1ZYi",
        "outputId": "cba6b296-bcb2-4458-bb85-00f11bfd8cb8"
      },
      "source": [
        "happiness.evaluate(test_X, test_Y)"
      ],
      "execution_count": null,
      "outputs": [
        {
          "output_type": "stream",
          "text": [
            "1/1 [==============================] - 0s 145ms/step - loss: 19.4209 - accuracy: 0.0000e+00\n"
          ],
          "name": "stdout"
        },
        {
          "output_type": "execute_result",
          "data": {
            "text/plain": [
              "[19.420907974243164, 0.0]"
            ]
          },
          "metadata": {
            "tags": []
          },
          "execution_count": 14
        }
      ]
    },
    {
      "cell_type": "code",
      "metadata": {
        "id": "BTofX-661mqV"
      },
      "source": [
        ""
      ],
      "execution_count": null,
      "outputs": []
    }
  ]
}